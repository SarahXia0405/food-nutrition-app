{
 "cells": [
  {
   "cell_type": "code",
   "execution_count": 1,
   "id": "bd0b5fe6-6fc0-4b5e-99f2-6923e41636bb",
   "metadata": {},
   "outputs": [],
   "source": [
    "import pandas as pd\n",
    "import numpy as np\n",
    "\n",
    "import pandas as pd\n",
    "from collections import Counter\n",
    "import matplotlib.pyplot as plt\n",
    "\n",
    "from sklearn.linear_model import Ridge\n",
    "from sklearn.model_selection import train_test_split\n",
    "from sklearn.metrics import mean_absolute_error, r2_score\n",
    "import numpy as np\n",
    "import pandas as pd\n",
    "from sklearn.feature_extraction.text import TfidfVectorizer\n",
    "\n",
    "from sklearn.ensemble import RandomForestRegressor\n",
    "from sklearn.model_selection import train_test_split\n",
    "from sklearn.metrics import mean_absolute_error, r2_score\n",
    "\n",
    "from sklearn.preprocessing import StandardScaler\n",
    "from sklearn.model_selection import RandomizedSearchCV\n",
    "from sklearn.ensemble import RandomForestRegressor\n",
    "\n",
    "import numpy as np\n",
    "import matplotlib.pyplot as plt\n",
    "from sklearn.decomposition import PCA\n",
    "\n",
    "from gensim.models import Word2Vec\n",
    "\n",
    "import spacy\n",
    "import pandas as pd\n",
    "import re\n",
    "\n",
    "# Load spaCy English model\n",
    "nlp = spacy.load(\"en_core_web_sm\")\n",
    "\n",
    "import pandas as pd\n",
    "import numpy as np\n",
    "import spacy\n",
    "from sklearn.feature_extraction.text import TfidfVectorizer\n",
    "from sklearn.ensemble import RandomForestRegressor\n",
    "from sklearn.model_selection import train_test_split\n",
    "from sklearn.metrics import mean_absolute_error, r2_score\n",
    "import joblib\n",
    "\n",
    "import pandas as pd\n",
    "import numpy as np\n",
    "import seaborn as sns\n",
    "import matplotlib.pyplot as plt\n",
    "from sklearn.preprocessing import StandardScaler\n",
    "from sklearn.ensemble import RandomForestRegressor"
   ]
  },
  {
   "cell_type": "code",
   "execution_count": 2,
   "id": "9dfd8369-a690-42b6-9d34-fc25b4f65427",
   "metadata": {},
   "outputs": [
    {
     "name": "stdout",
     "output_type": "stream",
     "text": [
      "['merged_df.csv', 'scaler.pkl', 'Text_New.ipynb', 'tfidf_vectorizer.pkl', 'nutrition_density_model.pkl', 'QX_Text_NEW.ipynb', 'Text.ipynb', '.DS_Store', 'find_closest_component.pkl', 'food_names.txt', 'clean_data_with_same_units.csv', 'Untitled.ipynb', 'FV_Text.ipynb', 'old', 'rf_model.pkl', 'models', '__pycache__', 'component_vectors.pkl', 'utils.txt', 'food_components.pkl', 'QX_Text_NEW copy.ipynb', '.ipynb_checkpoints', 'component_nutrition_all.csv', 'parsed_food.pkl', 'Milestone 1 - Project Design.pdf']\n"
     ]
    }
   ],
   "source": [
    "import os\n",
    "print(os.listdir())  # List all files in the current directory\n"
   ]
  },
  {
   "cell_type": "code",
   "execution_count": 3,
   "id": "84b82087-5849-4aaa-a6aa-85c955e8e7bb",
   "metadata": {},
   "outputs": [
    {
     "ename": "ImportError",
     "evalue": "cannot import name 'parse_food_name' from 'utils' (/opt/anaconda3/lib/python3.12/site-packages/utils/__init__.py)",
     "output_type": "error",
     "traceback": [
      "\u001b[0;31m---------------------------------------------------------------------------\u001b[0m",
      "\u001b[0;31mImportError\u001b[0m                               Traceback (most recent call last)",
      "Cell \u001b[0;32mIn[3], line 1\u001b[0m\n\u001b[0;32m----> 1\u001b[0m \u001b[38;5;28;01mfrom\u001b[39;00m \u001b[38;5;21;01mutils\u001b[39;00m \u001b[38;5;28;01mimport\u001b[39;00m parse_food_name\n",
      "\u001b[0;31mImportError\u001b[0m: cannot import name 'parse_food_name' from 'utils' (/opt/anaconda3/lib/python3.12/site-packages/utils/__init__.py)"
     ]
    }
   ],
   "source": [
    "from utils import parse_food_name"
   ]
  },
  {
   "cell_type": "code",
   "execution_count": 5,
   "id": "0a6039a9-4c51-4618-b9fa-238df4fa87e0",
   "metadata": {},
   "outputs": [
    {
     "name": "stdout",
     "output_type": "stream",
     "text": [
      "/opt/anaconda3/lib/python3.12/site-packages/utils/__init__.py\n"
     ]
    }
   ],
   "source": [
    "import utils\n",
    "print(utils.__file__)  # Check the file path of the imported module\n"
   ]
  },
  {
   "cell_type": "code",
   "execution_count": 7,
   "id": "f4b5b416-a2bd-4128-8305-ffc0e57f10b0",
   "metadata": {},
   "outputs": [
    {
     "name": "stdout",
     "output_type": "stream",
     "text": [
      "✅ utils.py created successfully!\n"
     ]
    }
   ],
   "source": [
    "with open(\"utils.py\", \"w\") as f:\n",
    "    f.write(\"\"\"\n",
    "import spacy\n",
    "\n",
    "nlp = spacy.load(\"en_core_web_sm\")\n",
    "\n",
    "def parse_food_name(food_name):\n",
    "    \\\"\\\"\\\"Extract meaningful components from food name using NLP.\\\"\\\"\\\"\n",
    "    doc = nlp(food_name.lower())\n",
    "    return [token.lemma_ for token in doc if not token.is_stop]\n",
    "    \"\"\")\n",
    "print(\"✅ utils.py created successfully!\")\n"
   ]
  },
  {
   "cell_type": "code",
   "execution_count": 9,
   "id": "da2f1a21-3e39-41a4-a662-d604e8291bf7",
   "metadata": {},
   "outputs": [
    {
     "ename": "ImportError",
     "evalue": "cannot import name 'parse_food_name' from 'utils' (/opt/anaconda3/lib/python3.12/site-packages/utils/__init__.py)",
     "output_type": "error",
     "traceback": [
      "\u001b[0;31m---------------------------------------------------------------------------\u001b[0m",
      "\u001b[0;31mImportError\u001b[0m                               Traceback (most recent call last)",
      "Cell \u001b[0;32mIn[9], line 1\u001b[0m\n\u001b[0;32m----> 1\u001b[0m \u001b[38;5;28;01mfrom\u001b[39;00m \u001b[38;5;21;01mutils\u001b[39;00m \u001b[38;5;28;01mimport\u001b[39;00m parse_food_name\n",
      "\u001b[0;31mImportError\u001b[0m: cannot import name 'parse_food_name' from 'utils' (/opt/anaconda3/lib/python3.12/site-packages/utils/__init__.py)"
     ]
    }
   ],
   "source": [
    "from utils import parse_food_name"
   ]
  },
  {
   "cell_type": "code",
   "execution_count": 11,
   "id": "b6962a99-89a1-400e-9137-692c3fdfbbd3",
   "metadata": {},
   "outputs": [
    {
     "name": "stdout",
     "output_type": "stream",
     "text": [
      "✅ Renamed utils.py to nlp_utils.py\n"
     ]
    }
   ],
   "source": [
    "import os\n",
    "os.rename(\"utils.py\", \"nlp_utils.py\")\n",
    "print(\"✅ Renamed utils.py to nlp_utils.py\")\n"
   ]
  },
  {
   "cell_type": "code",
   "execution_count": 13,
   "id": "d4066534-6010-429f-922c-462e443ee81d",
   "metadata": {},
   "outputs": [
    {
     "name": "stdout",
     "output_type": "stream",
     "text": [
      "['grill', 'chicken', 'fresh', 'vegetable']\n"
     ]
    }
   ],
   "source": [
    "from nlp_utils import parse_food_name\n",
    "print(parse_food_name(\"Grilled chicken with fresh vegetables\"))\n"
   ]
  },
  {
   "cell_type": "code",
   "execution_count": null,
   "id": "266497a8-e33d-4a54-a6aa-0405e2538475",
   "metadata": {},
   "outputs": [],
   "source": []
  }
 ],
 "metadata": {
  "kernelspec": {
   "display_name": "Python [conda env:base] *",
   "language": "python",
   "name": "conda-base-py"
  },
  "language_info": {
   "codemirror_mode": {
    "name": "ipython",
    "version": 3
   },
   "file_extension": ".py",
   "mimetype": "text/x-python",
   "name": "python",
   "nbconvert_exporter": "python",
   "pygments_lexer": "ipython3",
   "version": "3.12.7"
  }
 },
 "nbformat": 4,
 "nbformat_minor": 5
}
