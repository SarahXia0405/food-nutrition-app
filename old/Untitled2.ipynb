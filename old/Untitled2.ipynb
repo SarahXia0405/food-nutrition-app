{
 "cells": [
  {
   "cell_type": "code",
   "execution_count": 2,
   "id": "cc335431-453c-4a3c-b3fc-a86557cecdd1",
   "metadata": {},
   "outputs": [
    {
     "name": "stderr",
     "output_type": "stream",
     "text": [
      "2025-03-06 15:22:12.694 \n",
      "  \u001b[33m\u001b[1mWarning:\u001b[0m to view this Streamlit app on a browser, run it with the following\n",
      "  command:\n",
      "\n",
      "    streamlit run /opt/anaconda3/lib/python3.12/site-packages/ipykernel_launcher.py [ARGUMENTS]\n",
      "2025-03-06 15:22:12.695 Session state does not function when running a script without `streamlit run`\n"
     ]
    }
   ],
   "source": [
    "import streamlit as st\n",
    "import numpy as np\n",
    "import pandas as pd\n",
    "import joblib\n",
    "\n",
    "# Load the pre-trained models and data\n",
    "scaler = joblib.load(\"scaler.pkl\")\n",
    "rf_model = joblib.load(\"rf_model.pkl\")\n",
    "component_nutrition_all = pd.read_csv(\"component_nutrition_all.csv\", index_col=0)\n",
    "\n",
    "# Define function for prediction\n",
    "def predict_nutrition_density(food_name):\n",
    "    components = parse_food_name(food_name)\n",
    "    matched_components = [find_closest_component(c) for c in components]\n",
    "    matched_components = list(set([c for sublist in matched_components for c in sublist]))  \n",
    "\n",
    "    known_components = [c for c in matched_components if c in component_nutrition_all.index]\n",
    "    if not known_components:\n",
    "        return \"⚠️ No matching components found.\"\n",
    "\n",
    "    summed_nutrition = component_nutrition_all.loc[known_components].sum()\n",
    "    X_input = summed_nutrition[selected_nutrient_features].values.reshape(1, -1)\n",
    "    X_input_scaled = scaler.transform(X_input)\n",
    "    predicted_density = rf_model.predict(X_input_scaled)[0]\n",
    "\n",
    "    return f\"🔮 Predicted Nutrition Density: {predicted_density:.4f}\"\n",
    "\n",
    "# Streamlit UI\n",
    "st.title(\"🍲 Nutrition Density Predictor\")\n",
    "food_name = st.text_input(\"Enter a food name:\", \"\")\n",
    "\n",
    "if st.button(\"Predict\"):\n",
    "    if food_name.strip():\n",
    "        result = predict_nutrition_density(food_name)\n",
    "        st.success(result)\n",
    "    else:\n",
    "        st.warning(\"Please enter a valid food name.\")\n"
   ]
  },
  {
   "cell_type": "code",
   "execution_count": null,
   "id": "1dbb55b6-2515-4653-ac2b-07bffe938116",
   "metadata": {},
   "outputs": [],
   "source": []
  }
 ],
 "metadata": {
  "kernelspec": {
   "display_name": "Python [conda env:base] *",
   "language": "python",
   "name": "conda-base-py"
  },
  "language_info": {
   "codemirror_mode": {
    "name": "ipython",
    "version": 3
   },
   "file_extension": ".py",
   "mimetype": "text/x-python",
   "name": "python",
   "nbconvert_exporter": "python",
   "pygments_lexer": "ipython3",
   "version": "3.12.7"
  }
 },
 "nbformat": 4,
 "nbformat_minor": 5
}
